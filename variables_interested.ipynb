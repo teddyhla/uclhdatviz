{
 "cells": [
  {
   "cell_type": "code",
   "execution_count": 2,
   "id": "08cae68b",
   "metadata": {},
   "outputs": [
    {
     "name": "stdout",
     "output_type": "stream",
     "text": [
      "successfully imported\n"
     ]
    }
   ],
   "source": [
    "import pandas as pd\n",
    "import plotly.express as px\n",
    "import matplotlib.pyplot as plt\n",
    "\n",
    "print(\"successfully imported\")"
   ]
  },
  {
   "cell_type": "code",
   "execution_count": 3,
   "id": "850d8db4",
   "metadata": {},
   "outputs": [],
   "source": [
    "df = pd.read_excel('data/exp1.xlsx')\n",
    "d2 = pd.read_excel('data/exp2.xlsx')"
   ]
  },
  {
   "cell_type": "code",
   "execution_count": 4,
   "id": "7b33e98b",
   "metadata": {},
   "outputs": [
    {
     "data": {
      "text/html": [
       "<div>\n",
       "<style scoped>\n",
       "    .dataframe tbody tr th:only-of-type {\n",
       "        vertical-align: middle;\n",
       "    }\n",
       "\n",
       "    .dataframe tbody tr th {\n",
       "        vertical-align: top;\n",
       "    }\n",
       "\n",
       "    .dataframe thead th {\n",
       "        text-align: right;\n",
       "    }\n",
       "</style>\n",
       "<table border=\"1\" class=\"dataframe\">\n",
       "  <thead>\n",
       "    <tr style=\"text-align: right;\">\n",
       "      <th></th>\n",
       "      <th>lab_result_id</th>\n",
       "      <th>result_last_modified_datetime</th>\n",
       "      <th>result_status</th>\n",
       "      <th>units</th>\n",
       "      <th>value_as_real</th>\n",
       "      <th>test_lab_code</th>\n",
       "      <th>lab_department</th>\n",
       "      <th>lab_provider</th>\n",
       "    </tr>\n",
       "  </thead>\n",
       "  <tbody>\n",
       "    <tr>\n",
       "      <th>0</th>\n",
       "      <td>618503588</td>\n",
       "      <td>2022-09-14 12:53:16+01</td>\n",
       "      <td>FINAL</td>\n",
       "      <td>mmol/l</td>\n",
       "      <td>7.50</td>\n",
       "      <td>tO2</td>\n",
       "      <td>NaN</td>\n",
       "      <td>ABL90_FLEX_PLUS</td>\n",
       "    </tr>\n",
       "    <tr>\n",
       "      <th>1</th>\n",
       "      <td>618503587</td>\n",
       "      <td>2022-09-14 12:53:16+01</td>\n",
       "      <td>FINAL</td>\n",
       "      <td>kPa</td>\n",
       "      <td>3.95</td>\n",
       "      <td>p50(act)</td>\n",
       "      <td>NaN</td>\n",
       "      <td>ABL90_FLEX_PLUS</td>\n",
       "    </tr>\n",
       "    <tr>\n",
       "      <th>2</th>\n",
       "      <td>618503586</td>\n",
       "      <td>2022-09-14 12:53:16+01</td>\n",
       "      <td>FINAL</td>\n",
       "      <td>%</td>\n",
       "      <td>39.00</td>\n",
       "      <td>Hct</td>\n",
       "      <td>NaN</td>\n",
       "      <td>ABL90_FLEX_PLUS</td>\n",
       "    </tr>\n",
       "    <tr>\n",
       "      <th>3</th>\n",
       "      <td>618503585</td>\n",
       "      <td>2022-09-14 12:53:16+01</td>\n",
       "      <td>FINAL</td>\n",
       "      <td>mmol/l</td>\n",
       "      <td>24.80</td>\n",
       "      <td>SBC</td>\n",
       "      <td>NaN</td>\n",
       "      <td>ABL90_FLEX_PLUS</td>\n",
       "    </tr>\n",
       "    <tr>\n",
       "      <th>4</th>\n",
       "      <td>618503584</td>\n",
       "      <td>2022-09-14 12:53:16+01</td>\n",
       "      <td>FINAL</td>\n",
       "      <td>mmol/l</td>\n",
       "      <td>2.20</td>\n",
       "      <td>cBase(Ecf)</td>\n",
       "      <td>NaN</td>\n",
       "      <td>ABL90_FLEX_PLUS</td>\n",
       "    </tr>\n",
       "  </tbody>\n",
       "</table>\n",
       "</div>"
      ],
      "text/plain": [
       "   lab_result_id result_last_modified_datetime result_status   units  \\\n",
       "0      618503588        2022-09-14 12:53:16+01         FINAL  mmol/l   \n",
       "1      618503587        2022-09-14 12:53:16+01         FINAL     kPa   \n",
       "2      618503586        2022-09-14 12:53:16+01         FINAL       %   \n",
       "3      618503585        2022-09-14 12:53:16+01         FINAL  mmol/l   \n",
       "4      618503584        2022-09-14 12:53:16+01         FINAL  mmol/l   \n",
       "\n",
       "   value_as_real test_lab_code  lab_department     lab_provider  \n",
       "0           7.50           tO2             NaN  ABL90_FLEX_PLUS  \n",
       "1           3.95      p50(act)             NaN  ABL90_FLEX_PLUS  \n",
       "2          39.00           Hct             NaN  ABL90_FLEX_PLUS  \n",
       "3          24.80           SBC             NaN  ABL90_FLEX_PLUS  \n",
       "4           2.20    cBase(Ecf)             NaN  ABL90_FLEX_PLUS  "
      ]
     },
     "execution_count": 4,
     "metadata": {},
     "output_type": "execute_result"
    }
   ],
   "source": [
    "df.head()"
   ]
  },
  {
   "cell_type": "code",
   "execution_count": 6,
   "id": "6d7bde20",
   "metadata": {},
   "outputs": [
    {
     "data": {
      "text/plain": [
       "array(['tO2', 'p50(act)', 'Hct', 'SBC', 'cBase(Ecf)', 'FIO2', 'MetHb',\n",
       "       'COHb', 'sO2', 'O2Hb', 'HHb', 'tHb', 'Lac', 'Glu', 'Cl-', 'Ca++',\n",
       "       'Na+', 'K+', 'pO2', 'pCO2', 'pH', 'Crea', 'Urea', 'pO2(T)',\n",
       "       'cBase(B)', 'pCO2(T)', 'pH(T)', 'T', 'HbF', 'Liter flow'],\n",
       "      dtype=object)"
      ]
     },
     "execution_count": 6,
     "metadata": {},
     "output_type": "execute_result"
    }
   ],
   "source": [
    "df.test_lab_code.unique()"
   ]
  },
  {
   "cell_type": "code",
   "execution_count": 21,
   "id": "0690a613",
   "metadata": {},
   "outputs": [
    {
     "data": {
      "text/plain": [
       "(4105, 8)"
      ]
     },
     "execution_count": 21,
     "metadata": {},
     "output_type": "execute_result"
    }
   ],
   "source": [
    "ndf = df[df.test_lab_code==\"tO2\"]\n",
    "ndf.shape"
   ]
  },
  {
   "cell_type": "code",
   "execution_count": 22,
   "id": "c5515fd9",
   "metadata": {},
   "outputs": [
    {
     "data": {
      "text/plain": [
       "(4105,)"
      ]
     },
     "execution_count": 22,
     "metadata": {},
     "output_type": "execute_result"
    }
   ],
   "source": [
    "ndf.lab_result_id.unique().shape"
   ]
  },
  {
   "cell_type": "code",
   "execution_count": null,
   "id": "9f227652",
   "metadata": {},
   "outputs": [],
   "source": [
    "Variables interested are :-\n",
    "    \n",
    "    demographics : age, gender, ethnicity, \n",
    "    anthrpomorphics : height, weight\n",
    "\n",
    "Ventilator variables :- \n",
    "    \n",
    "    1. on room air \n",
    "    2. on conventional oxygen therapy (venturi,non rebreathe)\n",
    "    3. on HfNC\n",
    "    4. on NIV \n",
    "    5. on IMV\n",
    "\n",
    "\n",
    "Other variables :- \n",
    "    1. RR \n",
    "    2. HR\n",
    "    3. BP\n",
    "    4. Temp\n",
    "    5. SpO2\n",
    "\n",
    "\n",
    "    \n",
    "    "
   ]
  },
  {
   "cell_type": "code",
   "execution_count": 14,
   "id": "8bf3526b",
   "metadata": {},
   "outputs": [
    {
     "data": {
      "text/plain": [
       "(91537, 8)"
      ]
     },
     "execution_count": 14,
     "metadata": {},
     "output_type": "execute_result"
    }
   ],
   "source": [
    "df.shape"
   ]
  },
  {
   "cell_type": "code",
   "execution_count": 5,
   "id": "cc3dae88",
   "metadata": {},
   "outputs": [
    {
     "data": {
      "text/html": [
       "<div>\n",
       "<style scoped>\n",
       "    .dataframe tbody tr th:only-of-type {\n",
       "        vertical-align: middle;\n",
       "    }\n",
       "\n",
       "    .dataframe tbody tr th {\n",
       "        vertical-align: top;\n",
       "    }\n",
       "\n",
       "    .dataframe thead th {\n",
       "        text-align: right;\n",
       "    }\n",
       "</style>\n",
       "<table border=\"1\" class=\"dataframe\">\n",
       "  <thead>\n",
       "    <tr style=\"text-align: right;\">\n",
       "      <th></th>\n",
       "      <th>display_name</th>\n",
       "      <th>visit_observation_type_id</th>\n",
       "      <th>n</th>\n",
       "    </tr>\n",
       "  </thead>\n",
       "  <tbody>\n",
       "    <tr>\n",
       "      <th>0</th>\n",
       "      <td>Arterial Line BP</td>\n",
       "      <td>415351386</td>\n",
       "      <td>38</td>\n",
       "    </tr>\n",
       "    <tr>\n",
       "      <th>1</th>\n",
       "      <td>Type of Wound (LDA)</td>\n",
       "      <td>94937473</td>\n",
       "      <td>4</td>\n",
       "    </tr>\n",
       "    <tr>\n",
       "      <th>2</th>\n",
       "      <td>Adult High Range Vt 10mL/kg</td>\n",
       "      <td>57914795</td>\n",
       "      <td>174</td>\n",
       "    </tr>\n",
       "    <tr>\n",
       "      <th>3</th>\n",
       "      <td>SOFA Score (Do Not Edit)</td>\n",
       "      <td>412862904</td>\n",
       "      <td>3070</td>\n",
       "    </tr>\n",
       "    <tr>\n",
       "      <th>4</th>\n",
       "      <td>Calculated Vt 6mL/kg</td>\n",
       "      <td>57914789</td>\n",
       "      <td>174</td>\n",
       "    </tr>\n",
       "  </tbody>\n",
       "</table>\n",
       "</div>"
      ],
      "text/plain": [
       "                  display_name  visit_observation_type_id     n\n",
       "0             Arterial Line BP                  415351386    38\n",
       "1          Type of Wound (LDA)                   94937473     4\n",
       "2  Adult High Range Vt 10mL/kg                   57914795   174\n",
       "3     SOFA Score (Do Not Edit)                  412862904  3070\n",
       "4        Calculated Vt 6mL/kg                    57914789   174"
      ]
     },
     "execution_count": 5,
     "metadata": {},
     "output_type": "execute_result"
    }
   ],
   "source": [
    "d2.head()"
   ]
  },
  {
   "cell_type": "code",
   "execution_count": 10,
   "id": "0fea03ed",
   "metadata": {},
   "outputs": [
    {
     "data": {
      "text/html": [
       "<div>\n",
       "<style scoped>\n",
       "    .dataframe tbody tr th:only-of-type {\n",
       "        vertical-align: middle;\n",
       "    }\n",
       "\n",
       "    .dataframe tbody tr th {\n",
       "        vertical-align: top;\n",
       "    }\n",
       "\n",
       "    .dataframe thead th {\n",
       "        text-align: right;\n",
       "    }\n",
       "</style>\n",
       "<table border=\"1\" class=\"dataframe\">\n",
       "  <thead>\n",
       "    <tr style=\"text-align: right;\">\n",
       "      <th></th>\n",
       "      <th>display_name</th>\n",
       "      <th>visit_observation_type_id</th>\n",
       "      <th>n</th>\n",
       "    </tr>\n",
       "  </thead>\n",
       "  <tbody>\n",
       "    <tr>\n",
       "      <th>41</th>\n",
       "      <td>LACE+ Score</td>\n",
       "      <td>412814696</td>\n",
       "      <td>9982</td>\n",
       "    </tr>\n",
       "    <tr>\n",
       "      <th>95</th>\n",
       "      <td>Total Workload Acuity Score</td>\n",
       "      <td>412864061</td>\n",
       "      <td>8620</td>\n",
       "    </tr>\n",
       "    <tr>\n",
       "      <th>66</th>\n",
       "      <td>Pulse</td>\n",
       "      <td>47444830</td>\n",
       "      <td>3724</td>\n",
       "    </tr>\n",
       "    <tr>\n",
       "      <th>128</th>\n",
       "      <td>SpO2</td>\n",
       "      <td>47444811</td>\n",
       "      <td>3638</td>\n",
       "    </tr>\n",
       "    <tr>\n",
       "      <th>17</th>\n",
       "      <td>Resp</td>\n",
       "      <td>47444850</td>\n",
       "      <td>3498</td>\n",
       "    </tr>\n",
       "    <tr>\n",
       "      <th>...</th>\n",
       "      <td>...</td>\n",
       "      <td>...</td>\n",
       "      <td>...</td>\n",
       "    </tr>\n",
       "    <tr>\n",
       "      <th>45</th>\n",
       "      <td>Date of symptom onset</td>\n",
       "      <td>151343485</td>\n",
       "      <td>1</td>\n",
       "    </tr>\n",
       "    <tr>\n",
       "      <th>9</th>\n",
       "      <td>Base excess</td>\n",
       "      <td>415361839</td>\n",
       "      <td>1</td>\n",
       "    </tr>\n",
       "    <tr>\n",
       "      <th>130</th>\n",
       "      <td>pH</td>\n",
       "      <td>415361837</td>\n",
       "      <td>1</td>\n",
       "    </tr>\n",
       "    <tr>\n",
       "      <th>5</th>\n",
       "      <td>Static Compliance (L/cm H2O)</td>\n",
       "      <td>57999106</td>\n",
       "      <td>1</td>\n",
       "    </tr>\n",
       "    <tr>\n",
       "      <th>144</th>\n",
       "      <td>Respiratory Pattern</td>\n",
       "      <td>57913916</td>\n",
       "      <td>1</td>\n",
       "    </tr>\n",
       "  </tbody>\n",
       "</table>\n",
       "<p>154 rows × 3 columns</p>\n",
       "</div>"
      ],
      "text/plain": [
       "                     display_name  visit_observation_type_id     n\n",
       "41                    LACE+ Score                  412814696  9982\n",
       "95    Total Workload Acuity Score                  412864061  8620\n",
       "66                          Pulse                   47444830  3724\n",
       "128                          SpO2                   47444811  3638\n",
       "17                           Resp                   47444850  3498\n",
       "..                            ...                        ...   ...\n",
       "45          Date of symptom onset                  151343485     1\n",
       "9                     Base excess                  415361839     1\n",
       "130                           pH                   415361837     1\n",
       "5    Static Compliance (L/cm H2O)                   57999106     1\n",
       "144           Respiratory Pattern                   57913916     1\n",
       "\n",
       "[154 rows x 3 columns]"
      ]
     },
     "execution_count": 10,
     "metadata": {},
     "output_type": "execute_result"
    }
   ],
   "source": [
    "d2.sort_values(by=\"n\",ascending = False)"
   ]
  }
 ],
 "metadata": {
  "kernelspec": {
   "display_name": "Python 3 (ipykernel)",
   "language": "python",
   "name": "python3"
  },
  "language_info": {
   "codemirror_mode": {
    "name": "ipython",
    "version": 3
   },
   "file_extension": ".py",
   "mimetype": "text/x-python",
   "name": "python",
   "nbconvert_exporter": "python",
   "pygments_lexer": "ipython3",
   "version": "3.7.6"
  }
 },
 "nbformat": 4,
 "nbformat_minor": 5
}
